{
 "cells": [
  {
   "cell_type": "markdown",
   "id": "7df257e7-62fc-45cc-81cf-a2e23c25e899",
   "metadata": {},
   "source": [
    "## Setting up the environment"
   ]
  },
  {
   "cell_type": "code",
   "execution_count": 1,
   "id": "269a8125-7211-40b0-b0c9-452a8208c84b",
   "metadata": {},
   "outputs": [],
   "source": [
    "import json\n",
    "import torch\n",
    "from transformers import AutoTokenizer, AutoModel, AutoConfig, AutoModelForMaskedLM"
   ]
  },
  {
   "cell_type": "code",
   "execution_count": 2,
   "id": "f55d4b0c-00e6-4476-b959-6413e12db663",
   "metadata": {},
   "outputs": [
    {
     "name": "stdout",
     "output_type": "stream",
     "text": [
      "Package                           Version\n",
      "--------------------------------- --------------\n",
      "aiofiles                          24.1.0\n",
      "aiohappyeyeballs                  2.4.8\n",
      "aiohttp                           3.11.13\n",
      "aiosignal                         1.3.2\n",
      "airportsdata                      20250224\n",
      "annotated-types                   0.7.0\n",
      "anyio                             4.8.0\n",
      "appnope                           0.1.4\n",
      "argon2-cffi                       23.1.0\n",
      "argon2-cffi-bindings              21.2.0\n",
      "arrow                             1.3.0\n",
      "astor                             0.8.1\n",
      "asttokens                         3.0.0\n",
      "async-lru                         2.0.4\n",
      "attrs                             25.1.0\n",
      "babel                             2.17.0\n",
      "beautifulsoup4                    4.13.3\n",
      "blake3                            1.0.4\n",
      "bleach                            6.2.0\n",
      "certifi                           2024.8.30\n",
      "cffi                              1.17.1\n",
      "charset-normalizer                3.4.0\n",
      "click                             8.1.8\n",
      "cloudpickle                       3.1.1\n",
      "comm                              0.2.2\n",
      "compressed-tensors                0.9.1\n",
      "datasets                          3.3.2\n",
      "debugpy                           1.8.13\n",
      "decorator                         5.2.1\n",
      "defusedxml                        0.7.1\n",
      "depyf                             0.18.0\n",
      "dill                              0.3.8\n",
      "diskcache                         5.6.3\n",
      "distro                            1.9.0\n",
      "dnspython                         2.7.0\n",
      "einops                            0.8.1\n",
      "email_validator                   2.2.0\n",
      "executing                         2.2.0\n",
      "fastapi                           0.115.11\n",
      "fastapi-cli                       0.0.7\n",
      "fastjsonschema                    2.21.1\n",
      "filelock                          3.16.1\n",
      "fqdn                              1.5.1\n",
      "frozenlist                        1.5.0\n",
      "fsspec                            2024.10.0\n",
      "gguf                              0.10.0\n",
      "grpcio                            1.67.1\n",
      "h11                               0.14.0\n",
      "httpcore                          1.0.7\n",
      "httptools                         0.6.4\n",
      "httpx                             0.28.1\n",
      "huggingface-hub                   0.26.2\n",
      "idna                              3.10\n",
      "importlib_metadata                8.6.1\n",
      "interegular                       0.3.3\n",
      "ipykernel                         6.29.5\n",
      "ipython                           9.0.2\n",
      "ipython_pygments_lexers           1.1.1\n",
      "ipywidgets                        8.1.5\n",
      "isoduration                       20.11.0\n",
      "jedi                              0.19.2\n",
      "Jinja2                            3.1.6\n",
      "jiter                             0.9.0\n",
      "json5                             0.10.0\n",
      "jsonpointer                       3.0.0\n",
      "jsonschema                        4.23.0\n",
      "jsonschema-specifications         2024.10.1\n",
      "jupyter_client                    8.6.3\n",
      "jupyter_core                      5.7.2\n",
      "jupyter-events                    0.12.0\n",
      "jupyter-lsp                       2.2.5\n",
      "jupyter_server                    2.15.0\n",
      "jupyter_server_terminals          0.5.3\n",
      "jupyterlab                        4.3.5\n",
      "jupyterlab_pygments               0.3.0\n",
      "jupyterlab_server                 2.27.3\n",
      "jupyterlab_widgets                3.0.13\n",
      "lark                              1.2.2\n",
      "llama_cpp_python                  0.3.8\n",
      "llvmlite                          0.43.0\n",
      "lm-format-enforcer                0.10.11\n",
      "markdown-it-py                    3.0.0\n",
      "MarkupSafe                        3.0.2\n",
      "matplotlib-inline                 0.1.7\n",
      "mdurl                             0.1.2\n",
      "milvus-lite                       2.4.11\n",
      "mistral_common                    1.5.3\n",
      "mistune                           3.1.2\n",
      "mpmath                            1.3.0\n",
      "msgspec                           0.19.0\n",
      "multidict                         6.1.0\n",
      "multiprocess                      0.70.16\n",
      "nbclient                          0.10.2\n",
      "nbconvert                         7.16.6\n",
      "nbformat                          5.10.4\n",
      "nest-asyncio                      1.6.0\n",
      "networkx                          3.4.2\n",
      "notebook                          7.3.2\n",
      "notebook_shim                     0.2.4\n",
      "numba                             0.60.0\n",
      "numpy                             1.26.4\n",
      "openai                            1.66.3\n",
      "opencv-python-headless            4.11.0.86\n",
      "outlines                          0.1.11\n",
      "outlines_core                     0.1.26\n",
      "overrides                         7.7.0\n",
      "packaging                         24.2\n",
      "pandas                            2.2.3\n",
      "pandocfilters                     1.5.1\n",
      "parso                             0.8.4\n",
      "partial-json-parser               0.2.1.1.post5\n",
      "pexpect                           4.9.0\n",
      "pillow                            11.1.0\n",
      "pip                               24.2\n",
      "platformdirs                      4.3.6\n",
      "prometheus_client                 0.21.1\n",
      "prometheus-fastapi-instrumentator 7.0.2\n",
      "prompt_toolkit                    3.0.50\n",
      "propcache                         0.3.0\n",
      "protobuf                          4.25.5\n",
      "psutil                            7.0.0\n",
      "ptyprocess                        0.7.0\n",
      "pure_eval                         0.2.3\n",
      "py-cpuinfo                        9.0.0\n",
      "pyarrow                           19.0.1\n",
      "pycountry                         24.6.1\n",
      "pycparser                         2.22\n",
      "pydantic                          2.10.6\n",
      "pydantic_core                     2.27.2\n",
      "Pygments                          2.19.1\n",
      "pymilvus                          2.5.5\n",
      "python-dateutil                   2.9.0.post0\n",
      "python-dotenv                     1.0.1\n",
      "python-json-logger                3.3.0\n",
      "python-multipart                  0.0.20\n",
      "pytz                              2025.1\n",
      "PyYAML                            6.0.2\n",
      "pyzmq                             26.3.0\n",
      "referencing                       0.36.2\n",
      "regex                             2024.11.6\n",
      "requests                          2.32.3\n",
      "rfc3339-validator                 0.1.4\n",
      "rfc3986-validator                 0.1.1\n",
      "rich                              13.9.4\n",
      "rich-toolkit                      0.13.2\n",
      "rpds-py                           0.23.1\n",
      "safetensors                       0.4.5\n",
      "Send2Trash                        1.8.3\n",
      "sentencepiece                     0.2.0\n",
      "setuptools                        75.1.0\n",
      "shellingham                       1.5.4\n",
      "six                               1.17.0\n",
      "sniffio                           1.3.1\n",
      "soupsieve                         2.6\n",
      "stack-data                        0.6.3\n",
      "starlette                         0.46.1\n",
      "sympy                             1.13.1\n",
      "terminado                         0.18.1\n",
      "tiktoken                          0.9.0\n",
      "tinycss2                          1.4.0\n",
      "tokenizers                        0.21.0\n",
      "torch                             2.5.1\n",
      "torchaudio                        2.5.1\n",
      "torchvision                       0.20.1\n",
      "tornado                           6.4.2\n",
      "tqdm                              4.67.0\n",
      "traitlets                         5.14.3\n",
      "transformers                      4.49.0\n",
      "typer                             0.15.2\n",
      "types-python-dateutil             2.9.0.20241206\n",
      "typing_extensions                 4.12.2\n",
      "tzdata                            2025.1\n",
      "ujson                             5.10.0\n",
      "uri-template                      1.3.0\n",
      "urllib3                           2.2.3\n",
      "uvicorn                           0.34.0\n",
      "uvloop                            0.21.0\n",
      "vllm                              0.7.3\n",
      "watchfiles                        1.0.4\n",
      "wcwidth                           0.2.13\n",
      "webcolors                         24.11.1\n",
      "webencodings                      0.5.1\n",
      "websocket-client                  1.8.0\n",
      "websockets                        15.0.1\n",
      "wheel                             0.44.0\n",
      "widgetsnbextension                4.0.13\n",
      "xxhash                            3.5.0\n",
      "yarl                              1.18.3\n",
      "zipp                              3.21.0\n",
      "Note: you may need to restart the kernel to use updated packages.\n"
     ]
    }
   ],
   "source": [
    "pip list"
   ]
  },
  {
   "cell_type": "code",
   "execution_count": 18,
   "id": "a65a445f-c91f-4341-a023-baeb66118325",
   "metadata": {},
   "outputs": [],
   "source": [
    "def dump_object(obj):\n",
    "    for attribute in dir(obj):\n",
    "        if not attribute.startswith(\"__\") and not attribute.startswith(\"_\"): # Avoid special methods\n",
    "            try:\n",
    "                value = getattr(obj, attribute)\n",
    "                if not callable(value):                \n",
    "                    print(f\"{attribute}: {value}\")\n",
    "            except AttributeError:\n",
    "                print(f\"{attribute}: <not accessible>\") # Handle potential errors"
   ]
  },
  {
   "cell_type": "code",
   "execution_count": 10,
   "id": "00ea6784-6378-4d46-aff3-889ba2ab49d1",
   "metadata": {},
   "outputs": [],
   "source": [
    "embeddings_model_path = \"ibm-granite/granite-embedding-30m-english\"\n",
    "sparse_embeddings_model_path = \"ibm-granite/granite-embedding-30m-sparse\""
   ]
  },
  {
   "cell_type": "code",
   "execution_count": 11,
   "id": "0691467c-1b74-4630-a8f6-eea914124f4c",
   "metadata": {},
   "outputs": [],
   "source": [
    "embeddings_tokenizer = AutoTokenizer.from_pretrained(embeddings_model_path)\n",
    "sparse_embeddings_tokenizer = AutoTokenizer.from_pretrained(sparse_embeddings_model_path)"
   ]
  },
  {
   "cell_type": "code",
   "execution_count": 12,
   "id": "d3b0ec2a-cdaf-42c2-ab30-24249370ad4c",
   "metadata": {},
   "outputs": [],
   "source": [
    "config = config = AutoConfig.from_pretrained(embeddings_model_path)\n",
    "sparse_config = AutoConfig.from_pretrained(sparse_embeddings_model_path)"
   ]
  },
  {
   "cell_type": "code",
   "execution_count": 19,
   "id": "de445c03-471f-4a8a-9e0f-76f5184c143f",
   "metadata": {},
   "outputs": [
    {
     "name": "stdout",
     "output_type": "stream",
     "text": [
      "add_cross_attention: False\n",
      "architectures: ['RobertaModel']\n",
      "attention_probs_dropout_prob: 0.1\n",
      "attribute_map: {}\n",
      "bad_words_ids: None\n",
      "base_config_key: \n",
      "base_model_pp_plan: None\n",
      "base_model_tp_plan: None\n",
      "begin_suppress_tokens: None\n",
      "bos_token_id: 0\n",
      "chunk_size_feed_forward: 0\n",
      "classifier_dropout: None\n",
      "cross_attention_hidden_size: None\n",
      "decoder_start_token_id: None\n",
      "diversity_penalty: 0.0\n",
      "do_sample: False\n",
      "early_stopping: False\n",
      "encoder_no_repeat_ngram_size: 0\n",
      "eos_token_id: 2\n",
      "exponential_decay_length_penalty: None\n",
      "finetuning_task: None\n",
      "forced_bos_token_id: None\n",
      "forced_eos_token_id: None\n",
      "hidden_act: gelu\n",
      "hidden_dropout_prob: 0.1\n",
      "hidden_size: 384\n",
      "id2label: {0: 'LABEL_0', 1: 'LABEL_1'}\n",
      "initializer_range: 0.02\n",
      "intermediate_size: 1536\n",
      "is_composition: False\n",
      "is_decoder: False\n",
      "is_encoder_decoder: False\n",
      "label2id: {'LABEL_0': 0, 'LABEL_1': 1}\n",
      "layer_norm_eps: 1e-12\n",
      "length_penalty: 1.0\n",
      "max_length: 20\n",
      "max_position_embeddings: 514\n",
      "min_length: 0\n",
      "model_type: roberta\n",
      "name_or_path: ibm-granite/granite-embedding-30m-english\n",
      "no_repeat_ngram_size: 0\n",
      "num_attention_heads: 12\n",
      "num_beam_groups: 1\n",
      "num_beams: 1\n",
      "num_hidden_layers: 6\n",
      "num_labels: 2\n",
      "num_return_sequences: 1\n",
      "output_attentions: False\n",
      "output_hidden_states: False\n",
      "output_scores: False\n",
      "pad_token_id: 1\n",
      "position_embedding_type: absolute\n",
      "prefix: None\n",
      "problem_type: None\n",
      "pruned_heads: {}\n",
      "remove_invalid_values: False\n",
      "repetition_penalty: 1.0\n",
      "return_dict: True\n",
      "return_dict_in_generate: False\n",
      "sep_token_id: None\n",
      "sub_configs: {}\n",
      "suppress_tokens: None\n",
      "task_specific_params: None\n",
      "temperature: 1.0\n",
      "tf_legacy_loss: False\n",
      "tie_encoder_decoder: False\n",
      "tie_word_embeddings: True\n",
      "tokenizer_class: None\n",
      "top_k: 50\n",
      "top_p: 1.0\n",
      "torch_dtype: torch.bfloat16\n",
      "torchscript: False\n",
      "transformers_version: 4.15.0\n",
      "type_vocab_size: 2\n",
      "typical_p: 1.0\n",
      "use_bfloat16: False\n",
      "use_cache: True\n",
      "use_return_dict: True\n",
      "vocab_size: 50265\n"
     ]
    }
   ],
   "source": [
    "dump_object(config)"
   ]
  },
  {
   "cell_type": "code",
   "execution_count": 14,
   "id": "8940a2ec-6bfc-42ef-9ba1-deaebb852ef3",
   "metadata": {},
   "outputs": [
    {
     "ename": "NameError",
     "evalue": "name 'dump_obj' is not defined",
     "output_type": "error",
     "traceback": [
      "\u001b[31m---------------------------------------------------------------------------\u001b[39m",
      "\u001b[31mNameError\u001b[39m                                 Traceback (most recent call last)",
      "\u001b[36mCell\u001b[39m\u001b[36m \u001b[39m\u001b[32mIn[14]\u001b[39m\u001b[32m, line 1\u001b[39m\n\u001b[32m----> \u001b[39m\u001b[32m1\u001b[39m \u001b[43mdump_obj\u001b[49m(sparse_config)\n",
      "\u001b[31mNameError\u001b[39m: name 'dump_obj' is not defined"
     ]
    }
   ],
   "source": [
    "dump_object(sparse_config)"
   ]
  },
  {
   "cell_type": "code",
   "execution_count": null,
   "id": "641feec5-82fc-4d6b-82bf-1286b5bc9d33",
   "metadata": {},
   "outputs": [],
   "source": [
    "model = AutoModel.from_pretrained(embeddings_model_path, config=config)"
   ]
  },
  {
   "cell_type": "code",
   "execution_count": null,
   "id": "d2039a76-7a96-4f05-bfc3-a940a8f3c400",
   "metadata": {},
   "outputs": [],
   "source": [
    "sparse_model = AutoModelForMaskedLM.from_pretrained(sparse_embeddings_model_path, config=config)"
   ]
  },
  {
   "cell_type": "code",
   "execution_count": null,
   "id": "a38b9c83-1345-42e3-b41a-5e2c4a0be713",
   "metadata": {},
   "outputs": [],
   "source": [
    "text = \"This is a sample sentence.\"\n",
    "tokenized_input = sparse_embeddings_tokenizer(text, return_tensors=\"pt\") #  or tokenizer(text)\n",
    "print(tokenized_input)"
   ]
  },
  {
   "cell_type": "code",
   "execution_count": null,
   "id": "3f44ad3f-8089-4903-8981-5c765b02993b",
   "metadata": {},
   "outputs": [],
   "source": [
    "output = model(**tokenized_input)\n",
    "output"
   ]
  },
  {
   "cell_type": "code",
   "execution_count": null,
   "id": "0e97f884-8782-4e9d-9c1f-592398d82be5",
   "metadata": {},
   "outputs": [],
   "source": [
    "type(output)"
   ]
  },
  {
   "cell_type": "code",
   "execution_count": null,
   "id": "daef3e66-bac7-4a86-a467-b0f61e25153e",
   "metadata": {},
   "outputs": [],
   "source": [
    "dump_obj(output)"
   ]
  },
  {
   "cell_type": "markdown",
   "id": "a158b8c5-5289-429f-8e54-3c5276749ba7",
   "metadata": {},
   "source": [
    "from HF Transformers: [transformers/src/transformers modeling_outputs.py](https://github.com/huggingface/transformers/blob/main/src/transformers/modeling_outputs.py#L70)\n",
    "```\n",
    "class BaseModelOutputWithPooling(ModelOutput):\n",
    "...\n",
    "last_hidden_state (`torch.FloatTensor` of shape `(batch_size, sequence_length, hidden_size)`):\n",
    "    Sequence of hidden-states at the output of the last layer of the model.\n",
    "pooler_output (`torch.FloatTensor` of shape `(batch_size, hidden_size)`):\n",
    "    Last layer hidden-state of the first token of the sequence (classification token) after further processing\n",
    "    through the layers used for the auxiliary pretraining task. E.g. for BERT-family of models, this returns\n",
    "    the classification token after processing through a linear layer and a tanh activation function (The tanh\n",
    "    function outputs values in the range of -1 to +1). \n",
    "    The linear layer weights are trained from the next sentence prediction (classification) objective during\n",
    "    pretraining.\n",
    "```"
   ]
  },
  {
   "cell_type": "markdown",
   "id": "fab769b1-fab9-47c9-b8e8-62b247c48a1d",
   "metadata": {},
   "source": [
    "Understanding shapes from PyTorch: \n",
    "- [Tensor Shapes](https://pytorch.org/tutorials/beginner/introyt/tensors_deeper_tutorial.html#tensor-shapes)\n",
    "- [torch.Tensor.shape](https://pytorch.org/docs/stable/generated/torch.Tensor.shape.html)"
   ]
  },
  {
   "cell_type": "code",
   "execution_count": null,
   "id": "a13d8780-5785-4836-a9c1-ba0469a463d5",
   "metadata": {},
   "outputs": [],
   "source": [
    "# ([rows, num_rows (matches input tokens), columns (sequence_length)])\n",
    "# contains: logits (un-normalized values)\n",
    "output.last_hidden_state.shape"
   ]
  },
  {
   "cell_type": "code",
   "execution_count": null,
   "id": "65121892-f669-4454-a746-136966e203c1",
   "metadata": {},
   "outputs": [],
   "source": [
    "# ([rows, sequence_length])\n",
    "# containst: embeddings (normlized, using tanh fx.)\n",
    "output.pooler_output.shape"
   ]
  },
  {
   "cell_type": "code",
   "execution_count": null,
   "id": "6e95bde0-d49f-42c2-9c93-7c1b921eb806",
   "metadata": {},
   "outputs": [],
   "source": []
  }
 ],
 "metadata": {
  "kernelspec": {
   "display_name": "Python 3 (ipykernel)",
   "language": "python",
   "name": "python3"
  },
  "language_info": {
   "codemirror_mode": {
    "name": "ipython",
    "version": 3
   },
   "file_extension": ".py",
   "mimetype": "text/x-python",
   "name": "python",
   "nbconvert_exporter": "python",
   "pygments_lexer": "ipython3",
   "version": "3.12.2"
  }
 },
 "nbformat": 4,
 "nbformat_minor": 5
}
